{
  "nbformat": 4,
  "nbformat_minor": 0,
  "metadata": {
    "colab": {
      "provenance": [],
      "collapsed_sections": [
        "Y5rqbKwYb-3D"
      ],
      "include_colab_link": true
    },
    "kernelspec": {
      "name": "python3",
      "display_name": "Python 3"
    }
  },
  "cells": [
    {
      "cell_type": "markdown",
      "metadata": {
        "id": "view-in-github",
        "colab_type": "text"
      },
      "source": [
        "<a href=\"https://colab.research.google.com/github/mika-okamoto/neural-network/blob/main/deep_neural_network.ipynb\" target=\"_parent\"><img src=\"https://colab.research.google.com/assets/colab-badge.svg\" alt=\"Open In Colab\"/></a>"
      ]
    },
    {
      "cell_type": "code",
      "metadata": {
        "id": "VbezJ-FyOLW5"
      },
      "source": [
        "import numpy as np\n",
        "\n",
        "import matplotlib.pyplot as plt\n",
        "\n",
        "from sklearn.datasets import make_circles\n",
        "from sklearn.datasets import make_moons\n",
        "import seaborn as sns"
      ],
      "execution_count": 128,
      "outputs": []
    },
    {
      "cell_type": "code",
      "metadata": {
        "id": "EUy1ZdNYTobL"
      },
      "source": [
        "class Layer:\n",
        "\n",
        "  def __init__(self, output_units, input_units, activation, initialization = 'He'):\n",
        "\n",
        "    if initialization == 'He':\n",
        "      self.weights = np.random.randn(output_units, input_units) / np.sqrt(input_units)\n",
        "    \n",
        "    if initialization == 'Random':\n",
        "      self.weights = np.random.randn(output_units, input_units) * 0.01\n",
        "\n",
        "    self.biases = np.zeros((output_units, 1))\n",
        "\n",
        "    self.activation = activation\n",
        "  \n",
        "  def sigmoid(self, Z):\n",
        "    return (1 / (1 + np.exp(-Z)))\n",
        "\n",
        "  def relu(self, Z):\n",
        "    return np.maximum(0, Z)\n",
        "  \n",
        "  def tanh(self, Z):\n",
        "    return np.tanh(Z)\n",
        "\n",
        "  \n",
        "  # Computes derivatives of activation functions.\n",
        "  def activation_backwards(self, dA):\n",
        "\n",
        "    if self.activation == 'sigmoid':\n",
        "      sigmoid_grad = 1.0 * (self.Z >= 0)\n",
        "      dZ = dA * sigmoid_grad\n",
        "      return dZ\n",
        "\n",
        "    if self.activation == 'relu':\n",
        "      relu_grad = 1.0 * (self.Z >= 0)\n",
        "      dZ = dA * relu_grad\n",
        "      return dZ\n",
        "    \n",
        "    if self.activation == 'tanh':\n",
        "      tanh_grad = 1.0 * (self.Z >= 0)\n",
        "      dZ = dA * tanh_grad\n",
        "      return dZ\n",
        "  \n",
        "  def forward(self):\n",
        "    pass\n",
        "  \n",
        "  def backward(self):\n",
        "    pass\n",
        "  \n",
        "  def update(self):\n",
        "    pass"
      ],
      "execution_count": 129,
      "outputs": []
    },
    {
      "cell_type": "code",
      "metadata": {
        "id": "Bz-Od7dkpe7V",
        "colab": {
          "base_uri": "https://localhost:8080/"
        },
        "outputId": "e636a84a-f11a-40c2-dc1b-16010ae7db4b"
      },
      "source": [
        "layer = Layer(5, 10, \"relu\")\n",
        "\n",
        "print (\"Weights: \\n\", layer.weights)\n",
        "print (\"Biases: \\n\", layer.biases)"
      ],
      "execution_count": 130,
      "outputs": [
        {
          "output_type": "stream",
          "name": "stdout",
          "text": [
            "Weights: \n",
            " [[-0.04768414  0.03378105 -0.17036345 -0.01294407  0.35290586  0.65280857\n",
            "   0.02989471 -0.64423278  0.0946651  -0.12045942]\n",
            " [-0.29506647  0.04921839 -0.11578946 -0.02978533 -0.64957015 -0.06369244\n",
            "   0.32779859 -0.50786637  0.5013082   0.23020245]\n",
            " [ 0.02896071  0.04570239 -0.47925944 -0.04775554  0.45038801  0.26129542\n",
            "  -0.04599688  0.25003921 -0.04234745  0.05134782]\n",
            " [ 0.18247441  0.12408744  0.77333748  0.24412079  0.13061975 -0.02732743\n",
            "   0.04332577 -0.31011217  0.030534    0.32401677]\n",
            " [-0.17118881 -0.1743284   0.74374817 -0.07650115 -0.07711849 -0.4069885\n",
            "   0.24821011  0.20410007  0.48995366 -0.20865156]]\n",
            "Biases: \n",
            " [[0.]\n",
            " [0.]\n",
            " [0.]\n",
            " [0.]\n",
            " [0.]]\n"
          ]
        }
      ]
    },
    {
      "cell_type": "code",
      "metadata": {
        "id": "eia6NkWiMe7T"
      },
      "source": [
        "class Dense(Layer):\n",
        "\n",
        "  def __init__(self, output_units, input_units, activation, initialization = 'He'):\n",
        "    super().__init__(output_units, input_units, activation, initialization)\n",
        "\n",
        "  # Forward step for a single layer.\n",
        "  def forward(self, input):\n",
        "    self.input = input\n",
        "    Z = np.dot(self.weights, self.input) + self.biases\n",
        "    self.Z = Z\n",
        "\n",
        "    # sigmoid activation\n",
        "    if self.activation == \"sigmoid\":\n",
        "      A = self.sigmoid(Z)\n",
        "\n",
        "    # relu activation\n",
        "    elif self.activation == \"relu\":\n",
        "      A = self.relu(Z)\n",
        "    \n",
        "    # tanh activation\n",
        "    if self.activation == 'tanh':\n",
        "      A = self.tanh(Z)\n",
        "    \n",
        "    # print(\"PAIN\", 1/(1 + np.exp(-Z)))\n",
        "    # self.A = 1 / (1 + np.exp(-Z))\n",
        "    self.A = A\n",
        "\n",
        "    # print('Z', self.Z)\n",
        "    # print('weights', self.weights)\n",
        "    # print('a', self.A)\n",
        "    # print('b', self.biases)\n",
        "    \n",
        "    assert (self.Z.shape == (self.weights.shape[0], self.A.shape[1]))\n",
        "    assert (self.A.shape == (self.weights.shape[0], self.input.shape[1]))\n",
        "\n",
        "    return self.A\n",
        "\n",
        "  # Backward step for a single layer.\n",
        "  def backward(self, dA_prev):\n",
        " \n",
        "    dZ = self.activation_backwards(dA_prev)\n",
        "    m = self.input.shape[1]\n",
        "    # print(dZ)\n",
        "    # print(self.input)\n",
        "    self.dW = np.dot(dZ, self.input.T) / m\n",
        "    self.db = sum(sum(dZ)) / m\n",
        "    # self.db = np.reshape(self.db, (self.db.shape[0], 1)) \n",
        "    dA_prev = np.dot(self.weights.T, dZ)\n",
        "\n",
        "    assert (dA_prev.shape == self.input.shape)\n",
        "    assert (self.dW.shape == self.weights.shape)\n",
        "\n",
        "    return dA_prev\n",
        "\n",
        "  # Parameter update for a single layer.\n",
        "  def update(self, learning_rate):\n",
        "    self.weights = self.weights - learning_rate * self.dW\n",
        "    self.biases = self.biases - learning_rate * self.db\n",
        "\n",
        "  #Accessor method for weights (self.weights)\n",
        "  def getWeights(self):\n",
        "    return self.weights\n",
        "\n",
        "  #Accessor method for biases (self.biases)\n",
        "  def getBiases(self):\n",
        "    return self.biases\n"
      ],
      "execution_count": 131,
      "outputs": []
    },
    {
      "cell_type": "code",
      "metadata": {
        "id": "nu7JS8zENMUu"
      },
      "source": [
        "class Model:\n",
        "\n",
        "  def __init__(self):\n",
        "    self.epsilon = 1e-8\n",
        "\n",
        "  def build(self, network):\n",
        "    self.network = network\n",
        "\n",
        "  # Forward propagation.\n",
        "  def feedforward(self, X):\n",
        "\n",
        "    input = X\n",
        "\n",
        "    for layer in self.network:\n",
        "      input = layer.forward(input)\n",
        "    \n",
        "    AL = input\n",
        "\n",
        "    assert (AL.shape == (1, X.shape[1]))\n",
        "    return AL\n",
        "\n",
        "  def compute_cost(self, m, AL, Y):\n",
        "\n",
        "    cost = (-1/m) * (np.sum(Y*np.log(AL + 1e-8) + (1-Y) * (np.log(1-AL + 1e-8))))\n",
        "    cost = np.squeeze(cost)\n",
        "\n",
        "    return cost\n",
        "\n",
        "  # Backpropagate through layers.\n",
        "  def backpropagation(self, dAL):\n",
        "\n",
        "    dA_prev = dAL\n",
        "\n",
        "    for i in range(len(self.network) - 1, -1, -1):\n",
        "      dA_prev = self.network[i].backward(dA_prev)\n",
        "\n",
        "  # Parameter update.\n",
        "  def parameter_update(self, learning_rate):\n",
        "\n",
        "    # Loop over layers and call the update method from each.\n",
        "    for layer in self.network:\n",
        "      layer.update(learning_rate)\n",
        "\n",
        "  # Single iteration of descent.\n",
        "  def train(self, X, Y, learning_rate):\n",
        "    # print('X', X)\n",
        "    # print('Y', Y)\n",
        "\n",
        "    m = X.shape[1]\n",
        "\n",
        "    AL = self.feedforward(X)\n",
        "\n",
        "    cost = self.compute_cost(m, AL, Y)\n",
        "\n",
        "    Y = Y.reshape(AL.shape)\n",
        "\n",
        "    dAL = - (np.divide(Y, (AL + 1e-8)) - np.divide(1 - Y, (1 - AL + 1e-8)))\n",
        "\n",
        "    self.backpropagation(dAL)\n",
        "\n",
        "    self.parameter_update(learning_rate)\n",
        "    \n",
        "    return cost\n",
        "\n",
        "\n",
        "  # training loop\n",
        "  def fit(self, X_train, Y_train, epochs, learning_rate):\n",
        "\n",
        "    # Initialize list of costs.\n",
        "    costs = []\n",
        "\n",
        "    # Loop over epochs.\n",
        "    for i in range(epochs):\n",
        "\n",
        "      # Call the train method and append the cost to the list.\n",
        "      cost = self.train(X_train, Y_train, learning_rate)\n",
        "      costs.append(cost)\n",
        "\n",
        "    return costs\n",
        "\n",
        "  # Predict labels.\n",
        "  def predict(self, X):\n",
        "\n",
        "    predictions = self.feedforward(X)\n",
        "    predictions = np.round(predictions)\n",
        "    return predictions\n",
        "\n",
        "  # Evaluate prediction accuracy.\n",
        "  def evaluate(self, predictions, Y):\n",
        "    accuracy = (1 - abs(np.mean(predictions - Y))) * 100\n",
        "    return accuracy"
      ],
      "execution_count": 132,
      "outputs": []
    },
    {
      "cell_type": "code",
      "metadata": {
        "id": "mV-Di66v7jhr"
      },
      "source": [
        "def plot(costs):\n",
        "\n",
        "  plt.plot(costs)\n",
        "  plt.xlabel('Epochs')\n",
        "  plt.ylabel('Cost')\n",
        "\n",
        "  return plt"
      ],
      "execution_count": 133,
      "outputs": []
    },
    {
      "cell_type": "code",
      "source": [
        "# Generate test data\n",
        "from sklearn.datasets._samples_generator import make_blobs\n",
        "from sklearn.model_selection import train_test_split\n",
        "data, blob = make_blobs(n_samples=100, centers=2, cluster_std=1)\n",
        "sns.scatterplot(x=data.T[0], y=data.T[1], hue=blob)\n",
        "plt.show()\n",
        "\n",
        "X_train, X_test, y_train, y_test = train_test_split(data, blob)\n",
        "y_train, y_test = y_train.reshape(1, 75), y_test.reshape(1, 25)\n",
        "X_train, X_test = X_train.reshape(2, 75), X_test.reshape(2, 25)"
      ],
      "metadata": {
        "colab": {
          "base_uri": "https://localhost:8080/",
          "height": 265
        },
        "id": "4TZ32yZjcNkx",
        "outputId": "ffc4c7a4-59ea-4dc7-a36f-b14b8a86b7cb"
      },
      "execution_count": 134,
      "outputs": [
        {
          "output_type": "display_data",
          "data": {
            "text/plain": [
              "<Figure size 432x288 with 1 Axes>"
            ],
            "image/png": "[encoded data removed]"
          },
          "metadata": {
            "needs_background": "light"
          }
        }
      ]
    },
    {
      "cell_type": "code",
      "metadata": {
        "id": "szGUcZZ34pkb"
      },
      "source": [
        "model = Model()\n",
        "L1 = Dense(2, 2, 'tanh')\n",
        "Lout = Dense(1, 2, 'sigmoid')\n",
        "\n",
        "model.build([L1, Lout])\n",
        "\n",
        "costs = model.fit(X_train, y_train, 2500, 0.005)"
      ],
      "execution_count": 135,
      "outputs": []
    },
    {
      "cell_type": "code",
      "source": [
        "plot(costs)"
      ],
      "metadata": {
        "colab": {
          "base_uri": "https://localhost:8080/",
          "height": 296
        },
        "id": "KJAVtml9u14n",
        "outputId": "4afe61f3-c1d5-4bd5-b6a3-6af495d99601"
      },
      "execution_count": 136,
      "outputs": [
        {
          "output_type": "execute_result",
          "data": {
            "text/plain": [
              "<module 'matplotlib.pyplot' from '/usr/local/lib/python3.8/dist-packages/matplotlib/pyplot.py'>"
            ]
          },
          "metadata": {},
          "execution_count": 136
        },
        {
          "output_type": "display_data",
          "data": {
            "text/plain": [
              "<Figure size 432x288 with 1 Axes>"
            ],
            "image/png": "[encoded data removed]"
          },
          "metadata": {
            "needs_background": "light"
          }
        }
      ]
    },
    {
      "cell_type": "code",
      "source": [
        "predictions_train = model.predict(X_train)\n",
        "predictions_test = model.predict(X_test)\n",
        "print(\"Train Accuracy\", model.evaluate(predictions_train, y_train))\n",
        "print(\"Test Accuracy\", model.evaluate(predictions_test, y_test))"
      ],
      "metadata": {
        "colab": {
          "base_uri": "https://localhost:8080/"
        },
        "id": "mSN7q5y_u4CH",
        "outputId": "705c219b-646e-432d-9344-d58c96130aa3"
      },
      "execution_count": 137,
      "outputs": [
        {
          "output_type": "stream",
          "name": "stdout",
          "text": [
            "Train Accuracy 93.33333333333333\n",
            "Test Accuracy 88.0\n"
          ]
        }
      ]
    }
  ]
}